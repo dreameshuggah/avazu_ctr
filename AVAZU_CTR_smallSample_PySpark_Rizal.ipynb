{
 "cells": [
  {
   "cell_type": "code",
   "execution_count": 13,
   "metadata": {},
   "outputs": [],
   "source": [
    "import pandas as pd\n",
    "import numpy as np\n",
    "from datetime import datetime, timedelta\n",
    "from time import time\n",
    "from random import random\n",
    "\n",
    "import matplotlib.pyplot as plt\n",
    "%matplotlib inline\n",
    "import seaborn as sns\n",
    "\n",
    "import sys, os\n",
    "import shutil\n",
    "import csv\n",
    "\n",
    "from pyspark import SparkContext, SparkConf\n",
    "from pyspark.sql import SparkSession\n",
    "from pyspark.sql import HiveContext, SQLContext\n",
    "\n",
    "from pyspark.sql.functions import * #explode, udf, to_date, concat, col, lit\n",
    "from pyspark.sql import functions as F\n",
    "\n",
    "#from pyspark.sql.types import StructType, StructField, IntegerType, StringType,FloatType,DoubleType\n",
    "from pyspark.sql.types import *\n",
    "\n",
    "from pyspark.sql.window import Window\n",
    "from pyspark.ml.feature import OneHotEncoder, StringIndexer, VectorAssembler, MinMaxScaler\n",
    "from pyspark.ml.pipeline import Pipeline\n",
    "\n",
    "\n",
    "\n",
    "#initialize the spark session\n",
    "conf = SparkConf().setAppName('Predict')\n",
    "#sc = SparkContext(conf=conf)\n",
    "#sqlContext = SQLContext(sc)\n",
    "#sc.setLogLevel('ERROR')\n",
    "\n",
    "spark = SparkSession \\\n",
    "    .builder \\\n",
    "    .appName(\"Spark-PredictLogistic\")\\\n",
    "\t.config(\"spark.some.config.option\", \"some-value\")\\\n",
    "    .getOrCreate()"
   ]
  },
  {
   "cell_type": "code",
   "execution_count": 14,
   "metadata": {},
   "outputs": [
    {
     "name": "stdout",
     "output_type": "stream",
     "text": [
      "root\n",
      " |-- id: string (nullable = true)\n",
      " |-- click: string (nullable = true)\n",
      " |-- hour: string (nullable = true)\n",
      " |-- C1: string (nullable = true)\n",
      " |-- banner_pos: string (nullable = true)\n",
      " |-- site_id: string (nullable = true)\n",
      " |-- site_domain: string (nullable = true)\n",
      " |-- site_category: string (nullable = true)\n",
      " |-- app_id: string (nullable = true)\n",
      " |-- app_domain: string (nullable = true)\n",
      " |-- app_category: string (nullable = true)\n",
      " |-- device_id: string (nullable = true)\n",
      " |-- device_ip: string (nullable = true)\n",
      " |-- device_model: string (nullable = true)\n",
      " |-- device_type: string (nullable = true)\n",
      " |-- device_conn_type: string (nullable = true)\n",
      " |-- C14: string (nullable = true)\n",
      " |-- C15: string (nullable = true)\n",
      " |-- C16: string (nullable = true)\n",
      " |-- C17: string (nullable = true)\n",
      " |-- C18: string (nullable = true)\n",
      " |-- C19: string (nullable = true)\n",
      " |-- C20: string (nullable = true)\n",
      " |-- C21: string (nullable = true)\n",
      "\n"
     ]
    }
   ],
   "source": [
    "# https://www.kaggle.com/c/avazu-ctr-prediction/data\n",
    "target = 'click'\n",
    "\n",
    "df= spark.read.csv(\"train.gz\",header=True,mode=\"DROPMALFORMED\")\n",
    "df.printSchema()\n",
    "#print('nrows:',df.count())"
   ]
  },
  {
   "cell_type": "code",
   "execution_count": 15,
   "metadata": {},
   "outputs": [],
   "source": [
    "#DROP COLS\n",
    "df = df.drop('id','device_id','device_ip','device_model')"
   ]
  },
  {
   "cell_type": "markdown",
   "metadata": {},
   "source": [
    "### Sample 5% of data for Quick Testing"
   ]
  },
  {
   "cell_type": "code",
   "execution_count": 16,
   "metadata": {},
   "outputs": [],
   "source": [
    "df = df.sample(False,0.05,1234)\n",
    "#print('sampled nrows:',df.count())"
   ]
  },
  {
   "cell_type": "code",
   "execution_count": 17,
   "metadata": {},
   "outputs": [
    {
     "name": "stdout",
     "output_type": "stream",
     "text": [
      "+--------+\n",
      "|    hour|\n",
      "+--------+\n",
      "|14102100|\n",
      "|14102100|\n",
      "|14102100|\n",
      "|14102100|\n",
      "|14102100|\n",
      "+--------+\n",
      "only showing top 5 rows\n",
      "\n",
      "+----+-------------------+\n",
      "|hour|               date|\n",
      "+----+-------------------+\n",
      "|  00|2014-10-21 00:00:00|\n",
      "|  00|2014-10-21 00:00:00|\n",
      "|  00|2014-10-21 00:00:00|\n",
      "|  00|2014-10-21 00:00:00|\n",
      "|  00|2014-10-21 00:00:00|\n",
      "+----+-------------------+\n",
      "only showing top 5 rows\n",
      "\n",
      "root\n",
      " |-- click: string (nullable = true)\n",
      " |-- hour: string (nullable = true)\n",
      " |-- C1: string (nullable = true)\n",
      " |-- banner_pos: string (nullable = true)\n",
      " |-- site_id: string (nullable = true)\n",
      " |-- site_domain: string (nullable = true)\n",
      " |-- site_category: string (nullable = true)\n",
      " |-- app_id: string (nullable = true)\n",
      " |-- app_domain: string (nullable = true)\n",
      " |-- app_category: string (nullable = true)\n",
      " |-- device_type: string (nullable = true)\n",
      " |-- device_conn_type: string (nullable = true)\n",
      " |-- C14: string (nullable = true)\n",
      " |-- C15: string (nullable = true)\n",
      " |-- C16: string (nullable = true)\n",
      " |-- C17: string (nullable = true)\n",
      " |-- C18: string (nullable = true)\n",
      " |-- C19: string (nullable = true)\n",
      " |-- C20: string (nullable = true)\n",
      " |-- C21: string (nullable = true)\n",
      " |-- date: timestamp (nullable = true)\n",
      "\n"
     ]
    }
   ],
   "source": [
    "# check dates\n",
    "df.select('hour').show(5)\n",
    "\n",
    "\n",
    "# clean dates\n",
    "df = df.withColumn('date', concat(df.hour.substr(0, 2),\n",
    "                                  lit('-'),df.hour.substr(3,2),\n",
    "                                  lit('-'),df.hour.substr(5,2),\n",
    "                                 ))\n",
    "\n",
    "df = df.withColumn('hour', concat(df.hour.substr(7,2)))\n",
    "\n",
    "df = df.withColumn('date',to_timestamp('date','yy-MM-dd'))\n",
    "#df = df.where(col(\"date\").isNotNull())\n",
    "    \n",
    "df.select('hour','date').show(5)\n",
    "df.printSchema()"
   ]
  },
  {
   "cell_type": "markdown",
   "metadata": {},
   "source": [
    "### Date Features: day"
   ]
  },
  {
   "cell_type": "code",
   "execution_count": 18,
   "metadata": {},
   "outputs": [
    {
     "name": "stdout",
     "output_type": "stream",
     "text": [
      "+-------------------+---+\n",
      "|               date|day|\n",
      "+-------------------+---+\n",
      "|2014-10-21 00:00:00|Tue|\n",
      "|2014-10-21 00:00:00|Tue|\n",
      "|2014-10-21 00:00:00|Tue|\n",
      "|2014-10-21 00:00:00|Tue|\n",
      "|2014-10-21 00:00:00|Tue|\n",
      "+-------------------+---+\n",
      "only showing top 5 rows\n",
      "\n"
     ]
    }
   ],
   "source": [
    "from datetime import datetime, timedelta\n",
    "from time import time\n",
    "#from pyspark.sql.functions import date_format,hour\n",
    "\n",
    "df = df.withColumn(\"day\",date_format('date', 'E') )\n",
    "df.select('date','day').show(5)"
   ]
  },
  {
   "cell_type": "markdown",
   "metadata": {},
   "source": [
    "### Cast to Integers "
   ]
  },
  {
   "cell_type": "code",
   "execution_count": 19,
   "metadata": {},
   "outputs": [
    {
     "name": "stdout",
     "output_type": "stream",
     "text": [
      "root\n",
      " |-- click: integer (nullable = true)\n",
      " |-- hour: integer (nullable = true)\n",
      " |-- C1: integer (nullable = true)\n",
      " |-- banner_pos: integer (nullable = true)\n",
      " |-- site_id: string (nullable = true)\n",
      " |-- site_domain: string (nullable = true)\n",
      " |-- site_category: string (nullable = true)\n",
      " |-- app_id: string (nullable = true)\n",
      " |-- app_domain: string (nullable = true)\n",
      " |-- app_category: string (nullable = true)\n",
      " |-- device_type: string (nullable = true)\n",
      " |-- device_conn_type: integer (nullable = true)\n",
      " |-- C14: integer (nullable = true)\n",
      " |-- C15: integer (nullable = true)\n",
      " |-- C16: integer (nullable = true)\n",
      " |-- C17: integer (nullable = true)\n",
      " |-- C18: integer (nullable = true)\n",
      " |-- C19: integer (nullable = true)\n",
      " |-- C20: integer (nullable = true)\n",
      " |-- C21: integer (nullable = true)\n",
      " |-- date: timestamp (nullable = true)\n",
      " |-- day: string (nullable = true)\n",
      "\n"
     ]
    }
   ],
   "source": [
    "myint = [target,'hour','C1','banner_pos','device_conn_type',\n",
    "        'C14','C15','C16','C17','C18','C19','C20','C21']\n",
    "\n",
    "for i in myint:\n",
    "    df = df.withColumn((i),df[i].cast('integer'))\n",
    "    \n",
    "df.printSchema()"
   ]
  },
  {
   "cell_type": "markdown",
   "metadata": {},
   "source": [
    "### Check unusual counts for app_id & site_id:\n",
    "* bid_request data can either be from a website or app but never both"
   ]
  },
  {
   "cell_type": "code",
   "execution_count": 20,
   "metadata": {},
   "outputs": [
    {
     "name": "stdout",
     "output_type": "stream",
     "text": [
      "+--------+----------+\n",
      "|  app_id|sum(count)|\n",
      "+--------+----------+\n",
      "|ecad2386|   1292734|\n",
      "|92f5800b|     77823|\n",
      "|e2fcccd2|     56670|\n",
      "|9c13b419|     38294|\n",
      "|febd1138|     38029|\n",
      "|7358e05e|     30642|\n",
      "|a5184c22|     24377|\n",
      "|d36838b1|     23086|\n",
      "|685d1c4c|     20440|\n",
      "|54c5d545|     19821|\n",
      "|03528b27|     16131|\n",
      "|f0d41ff1|     14668|\n",
      "|e9739828|     14308|\n",
      "|e2a1ca37|     14117|\n",
      "|51cedd4e|     11940|\n",
      "|66f5e02e|     11447|\n",
      "|03a08c3f|     10940|\n",
      "|98fed791|     10815|\n",
      "|73206397|      9998|\n",
      "|f53417e1|      9983|\n",
      "+--------+----------+\n",
      "only showing top 20 rows\n",
      "\n"
     ]
    }
   ],
   "source": [
    "df = df.withColumn(\"count\", lit(1))\n",
    "app_stats = df.groupBy('app_id').agg({\"count\": \"sum\"})\n",
    "app_stats = app_stats.orderBy('sum(count)',ascending=False)\n",
    "app_stats.show()"
   ]
  },
  {
   "cell_type": "code",
   "execution_count": 21,
   "metadata": {},
   "outputs": [
    {
     "name": "stdout",
     "output_type": "stream",
     "text": [
      "+--------+----------+\n",
      "| site_id|sum(count)|\n",
      "+--------+----------+\n",
      "|85f751fd|    730254|\n",
      "|1fbe01fe|    323916|\n",
      "|e151e245|    132007|\n",
      "|d9750ee7|     48731|\n",
      "|5b08c53b|     45865|\n",
      "|856e6d3f|     38242|\n",
      "|5b4d2eda|     38169|\n",
      "|a7853007|     23174|\n",
      "|b7e9786d|     18453|\n",
      "|5ee41ff2|     17540|\n",
      "|6399eda6|     17281|\n",
      "|5bcf81a2|     17085|\n",
      "|6256f5b4|     15879|\n",
      "|57ef2c87|     15556|\n",
      "|17caea14|     13729|\n",
      "|0a742914|     13533|\n",
      "|83a0ad1a|     13458|\n",
      "|e4d8dd7b|     13224|\n",
      "|57fe1b20|     13201|\n",
      "|e8f79e60|     13123|\n",
      "+--------+----------+\n",
      "only showing top 20 rows\n",
      "\n"
     ]
    }
   ],
   "source": [
    "site_stats = df.groupBy('site_id').agg({\"count\": \"sum\"})\n",
    "site_stats = site_stats.orderBy('sum(count)',ascending=False)\n",
    "site_stats.show()"
   ]
  },
  {
   "cell_type": "code",
   "execution_count": 22,
   "metadata": {},
   "outputs": [
    {
     "name": "stdout",
     "output_type": "stream",
     "text": [
      "+--------+--------+-----------+----------+-------------+------------+\n",
      "| site_id|  app_id|site_domain|app_domain|site_category|app_category|\n",
      "+--------+--------+-----------+----------+-------------+------------+\n",
      "|1fbe01fe|ecad2386|   f3845767|  7801e8d9|     28905ebd|    07d7df22|\n",
      "|0c2fe9d6|ecad2386|   27e3c518|  7801e8d9|     28905ebd|    07d7df22|\n",
      "|1fbe01fe|ecad2386|   f3845767|  7801e8d9|     28905ebd|    07d7df22|\n",
      "|1fbe01fe|ecad2386|   f3845767|  7801e8d9|     28905ebd|    07d7df22|\n",
      "|1fbe01fe|ecad2386|   f3845767|  7801e8d9|     28905ebd|    07d7df22|\n",
      "|e151e245|ecad2386|   7e091613|  7801e8d9|     f028772b|    07d7df22|\n",
      "|1fbe01fe|ecad2386|   f3845767|  7801e8d9|     28905ebd|    07d7df22|\n",
      "|1fbe01fe|ecad2386|   f3845767|  7801e8d9|     28905ebd|    07d7df22|\n",
      "|43d6df75|ecad2386|   27e3c518|  7801e8d9|     28905ebd|    07d7df22|\n",
      "|e59ef3fc|ecad2386|   0a4015b2|  7801e8d9|     335d28a8|    07d7df22|\n",
      "|1fbe01fe|ecad2386|   f3845767|  7801e8d9|     28905ebd|    07d7df22|\n",
      "|1fbe01fe|ecad2386|   f3845767|  7801e8d9|     28905ebd|    07d7df22|\n",
      "|543a539e|ecad2386|   c7ca3108|  7801e8d9|     3e814130|    07d7df22|\n",
      "|1fbe01fe|ecad2386|   f3845767|  7801e8d9|     28905ebd|    07d7df22|\n",
      "|1fbe01fe|ecad2386|   f3845767|  7801e8d9|     28905ebd|    07d7df22|\n",
      "|1fbe01fe|ecad2386|   f3845767|  7801e8d9|     28905ebd|    07d7df22|\n",
      "|7549fe4f|ecad2386|   1e0acfb4|  7801e8d9|     50e219e0|    07d7df22|\n",
      "|1fbe01fe|ecad2386|   f3845767|  7801e8d9|     28905ebd|    07d7df22|\n",
      "|1b171d6d|ecad2386|   272c5d9d|  7801e8d9|     f028772b|    07d7df22|\n",
      "|7dd19f44|ecad2386|   9690165f|  7801e8d9|     f028772b|    07d7df22|\n",
      "+--------+--------+-----------+----------+-------------+------------+\n",
      "only showing top 20 rows\n",
      "\n"
     ]
    }
   ],
   "source": [
    "df.select('site_id','app_id','site_domain','app_domain','site_category','app_category')\\\n",
    "  .filter(df['app_id']=='ecad2386').show()"
   ]
  },
  {
   "cell_type": "code",
   "execution_count": 23,
   "metadata": {},
   "outputs": [
    {
     "name": "stdout",
     "output_type": "stream",
     "text": [
      "+--------+--------+-----------+----------+-------------+------------+\n",
      "| site_id|  app_id|site_domain|app_domain|site_category|app_category|\n",
      "+--------+--------+-----------+----------+-------------+------------+\n",
      "|85f751fd|e2a1ca37|   c4e18dd6|  2347f47a|     50e219e0|    8ded1f7a|\n",
      "|85f751fd|e2fcccd2|   c4e18dd6|  5c5a694b|     50e219e0|    0f2161f8|\n",
      "|85f751fd|ffc6ffd0|   c4e18dd6|  7801e8d9|     50e219e0|    0f2161f8|\n",
      "|85f751fd|febd1138|   c4e18dd6|  82e27996|     50e219e0|    0f2161f8|\n",
      "|85f751fd|1779deee|   c4e18dd6|  2347f47a|     50e219e0|    f95efa07|\n",
      "|85f751fd|0acbeaa3|   c4e18dd6|  45a51db4|     50e219e0|    f95efa07|\n",
      "|85f751fd|39947756|   c4e18dd6|  2347f47a|     50e219e0|    cef3e649|\n",
      "|85f751fd|1779deee|   c4e18dd6|  2347f47a|     50e219e0|    f95efa07|\n",
      "|85f751fd|51cedd4e|   c4e18dd6|  aefc06bd|     50e219e0|    0f2161f8|\n",
      "|85f751fd|4e02fbd3|   c4e18dd6|  7801e8d9|     50e219e0|    07d7df22|\n",
      "|85f751fd|090d3a47|   c4e18dd6|  0654b444|     50e219e0|    0f2161f8|\n",
      "|85f751fd|39947756|   c4e18dd6|  2347f47a|     50e219e0|    cef3e649|\n",
      "|85f751fd|090d3a47|   c4e18dd6|  0654b444|     50e219e0|    0f2161f8|\n",
      "|85f751fd|e2fcccd2|   c4e18dd6|  5c5a694b|     50e219e0|    0f2161f8|\n",
      "|85f751fd|2f6efcf2|   c4e18dd6|  813f3323|     50e219e0|    0f2161f8|\n",
      "|85f751fd|fc46e1c5|   c4e18dd6|  2347f47a|     50e219e0|    0f2161f8|\n",
      "|85f751fd|a4e8d9a8|   c4e18dd6|  7801e8d9|     50e219e0|    0f2161f8|\n",
      "|85f751fd|d03cc6b3|   c4e18dd6|  2347f47a|     50e219e0|    0f2161f8|\n",
      "|85f751fd|3c4b944d|   c4e18dd6|  2347f47a|     50e219e0|    0f2161f8|\n",
      "|85f751fd|febd1138|   c4e18dd6|  82e27996|     50e219e0|    0f2161f8|\n",
      "+--------+--------+-----------+----------+-------------+------------+\n",
      "only showing top 20 rows\n",
      "\n"
     ]
    }
   ],
   "source": [
    "df.select('site_id','app_id','site_domain','app_domain','site_category','app_category')\\\n",
    "  .filter(df['site_id']=='85f751fd').show()"
   ]
  },
  {
   "cell_type": "markdown",
   "metadata": {},
   "source": [
    "### Create new feature:  source_id & source_domain\n",
    "* each row can only consist of either a site or an app( never both)\n",
    "* site_id = 85f751fd indicates it is not a site but an app\n",
    "* app_id = ecad2386 indicates it is not an app but a site"
   ]
  },
  {
   "cell_type": "markdown",
   "metadata": {},
   "source": [
    "### New Feature: source_id"
   ]
  },
  {
   "cell_type": "code",
   "execution_count": 24,
   "metadata": {},
   "outputs": [
    {
     "name": "stdout",
     "output_type": "stream",
     "text": [
      "+---------+--------+--------+----------+\n",
      "|source_id|  app_id| site_id|app_domain|\n",
      "+---------+--------+--------+----------+\n",
      "| 1fbe01fe|ecad2386|1fbe01fe|  7801e8d9|\n",
      "| 0c2fe9d6|ecad2386|0c2fe9d6|  7801e8d9|\n",
      "| 1fbe01fe|ecad2386|1fbe01fe|  7801e8d9|\n",
      "| e2a1ca37|e2a1ca37|85f751fd|  2347f47a|\n",
      "| 1fbe01fe|ecad2386|1fbe01fe|  7801e8d9|\n",
      "| 1fbe01fe|ecad2386|1fbe01fe|  7801e8d9|\n",
      "| e151e245|ecad2386|e151e245|  7801e8d9|\n",
      "| e2fcccd2|e2fcccd2|85f751fd|  5c5a694b|\n",
      "| 1fbe01fe|ecad2386|1fbe01fe|  7801e8d9|\n",
      "| 1fbe01fe|ecad2386|1fbe01fe|  7801e8d9|\n",
      "| ffc6ffd0|ffc6ffd0|85f751fd|  7801e8d9|\n",
      "| 43d6df75|ecad2386|43d6df75|  7801e8d9|\n",
      "| e59ef3fc|ecad2386|e59ef3fc|  7801e8d9|\n",
      "| 1fbe01fe|ecad2386|1fbe01fe|  7801e8d9|\n",
      "| 1fbe01fe|ecad2386|1fbe01fe|  7801e8d9|\n",
      "| 543a539e|ecad2386|543a539e|  7801e8d9|\n",
      "| 1fbe01fe|ecad2386|1fbe01fe|  7801e8d9|\n",
      "| febd1138|febd1138|85f751fd|  82e27996|\n",
      "| 1fbe01fe|ecad2386|1fbe01fe|  7801e8d9|\n",
      "| 1fbe01fe|ecad2386|1fbe01fe|  7801e8d9|\n",
      "+---------+--------+--------+----------+\n",
      "only showing top 20 rows\n",
      "\n"
     ]
    }
   ],
   "source": [
    "# feature SOURCE_ID\n",
    "df = df.withColumn('source_id',\n",
    "                   F.when(df['app_id']=='ecad2386',df['site_id'])\\\n",
    "                    .when(df['site_id']=='85f751fd',df['app_id'])\\\n",
    "                  )\n",
    "\n",
    "df.select('source_id','app_id','site_id','app_domain').show()"
   ]
  },
  {
   "cell_type": "markdown",
   "metadata": {},
   "source": [
    "### New Feature: source_domain"
   ]
  },
  {
   "cell_type": "code",
   "execution_count": 25,
   "metadata": {},
   "outputs": [
    {
     "name": "stdout",
     "output_type": "stream",
     "text": [
      "+-------------+----------+-----------+--------+--------+\n",
      "|source_domain|app_domain|site_domain|  app_id| site_id|\n",
      "+-------------+----------+-----------+--------+--------+\n",
      "|     f3845767|  7801e8d9|   f3845767|ecad2386|1fbe01fe|\n",
      "|     27e3c518|  7801e8d9|   27e3c518|ecad2386|0c2fe9d6|\n",
      "|     f3845767|  7801e8d9|   f3845767|ecad2386|1fbe01fe|\n",
      "|     2347f47a|  2347f47a|   c4e18dd6|e2a1ca37|85f751fd|\n",
      "|     f3845767|  7801e8d9|   f3845767|ecad2386|1fbe01fe|\n",
      "|     f3845767|  7801e8d9|   f3845767|ecad2386|1fbe01fe|\n",
      "|     7e091613|  7801e8d9|   7e091613|ecad2386|e151e245|\n",
      "|     5c5a694b|  5c5a694b|   c4e18dd6|e2fcccd2|85f751fd|\n",
      "|     f3845767|  7801e8d9|   f3845767|ecad2386|1fbe01fe|\n",
      "|     f3845767|  7801e8d9|   f3845767|ecad2386|1fbe01fe|\n",
      "|     7801e8d9|  7801e8d9|   c4e18dd6|ffc6ffd0|85f751fd|\n",
      "|     27e3c518|  7801e8d9|   27e3c518|ecad2386|43d6df75|\n",
      "|     0a4015b2|  7801e8d9|   0a4015b2|ecad2386|e59ef3fc|\n",
      "|     f3845767|  7801e8d9|   f3845767|ecad2386|1fbe01fe|\n",
      "|     f3845767|  7801e8d9|   f3845767|ecad2386|1fbe01fe|\n",
      "|     c7ca3108|  7801e8d9|   c7ca3108|ecad2386|543a539e|\n",
      "|     f3845767|  7801e8d9|   f3845767|ecad2386|1fbe01fe|\n",
      "|     82e27996|  82e27996|   c4e18dd6|febd1138|85f751fd|\n",
      "|     f3845767|  7801e8d9|   f3845767|ecad2386|1fbe01fe|\n",
      "|     f3845767|  7801e8d9|   f3845767|ecad2386|1fbe01fe|\n",
      "+-------------+----------+-----------+--------+--------+\n",
      "only showing top 20 rows\n",
      "\n"
     ]
    }
   ],
   "source": [
    "# feature SOURCE_DOMAIN\n",
    "df = df.withColumn('source_domain',F.when(df['app_id']=='ecad2386',df['site_domain'])\\\n",
    "                                    .when(df['site_id']=='85f751fd',df['app_domain']))\n",
    "\n",
    "df.select('source_domain','app_domain','site_domain','app_id','site_id').show()"
   ]
  },
  {
   "cell_type": "markdown",
   "metadata": {},
   "source": [
    "### New Feature: source_category"
   ]
  },
  {
   "cell_type": "code",
   "execution_count": 26,
   "metadata": {},
   "outputs": [
    {
     "name": "stdout",
     "output_type": "stream",
     "text": [
      "+---------------+------------+--------+--------+\n",
      "|source_category|app_category|  app_id| site_id|\n",
      "+---------------+------------+--------+--------+\n",
      "|       28905ebd|    07d7df22|ecad2386|1fbe01fe|\n",
      "|       28905ebd|    07d7df22|ecad2386|0c2fe9d6|\n",
      "|       28905ebd|    07d7df22|ecad2386|1fbe01fe|\n",
      "|       8ded1f7a|    8ded1f7a|e2a1ca37|85f751fd|\n",
      "|       28905ebd|    07d7df22|ecad2386|1fbe01fe|\n",
      "|       28905ebd|    07d7df22|ecad2386|1fbe01fe|\n",
      "|       f028772b|    07d7df22|ecad2386|e151e245|\n",
      "|       0f2161f8|    0f2161f8|e2fcccd2|85f751fd|\n",
      "|       28905ebd|    07d7df22|ecad2386|1fbe01fe|\n",
      "|       28905ebd|    07d7df22|ecad2386|1fbe01fe|\n",
      "|       0f2161f8|    0f2161f8|ffc6ffd0|85f751fd|\n",
      "|       28905ebd|    07d7df22|ecad2386|43d6df75|\n",
      "|       335d28a8|    07d7df22|ecad2386|e59ef3fc|\n",
      "|       28905ebd|    07d7df22|ecad2386|1fbe01fe|\n",
      "|       28905ebd|    07d7df22|ecad2386|1fbe01fe|\n",
      "|       3e814130|    07d7df22|ecad2386|543a539e|\n",
      "|       28905ebd|    07d7df22|ecad2386|1fbe01fe|\n",
      "|       0f2161f8|    0f2161f8|febd1138|85f751fd|\n",
      "|       28905ebd|    07d7df22|ecad2386|1fbe01fe|\n",
      "|       28905ebd|    07d7df22|ecad2386|1fbe01fe|\n",
      "+---------------+------------+--------+--------+\n",
      "only showing top 20 rows\n",
      "\n"
     ]
    }
   ],
   "source": [
    "# feature SOURCE_category\n",
    "df = df.withColumn('source_category',F.when(df['app_id']=='ecad2386',df['site_category'])\\\n",
    "                                    .when(df['site_id']=='85f751fd',df['app_category']))\n",
    "\n",
    "df.select('source_category','app_category','app_id','site_id').show()"
   ]
  },
  {
   "cell_type": "markdown",
   "metadata": {},
   "source": [
    "### feature C15 & C16 shows banner W & H "
   ]
  },
  {
   "cell_type": "code",
   "execution_count": 27,
   "metadata": {},
   "outputs": [
    {
     "name": "stdout",
     "output_type": "stream",
     "text": [
      "+----+----+\n",
      "| C15| C16|\n",
      "+----+----+\n",
      "| 300|  50|\n",
      "| 320| 480|\n",
      "| 768|1024|\n",
      "| 320|  50|\n",
      "| 480| 320|\n",
      "| 300| 250|\n",
      "| 120|  20|\n",
      "|1024| 768|\n",
      "| 728|  90|\n",
      "| 216|  36|\n",
      "+----+----+\n",
      "\n"
     ]
    }
   ],
   "source": [
    "df.select('C15','C16').distinct().show()"
   ]
  },
  {
   "cell_type": "markdown",
   "metadata": {},
   "source": [
    "### New  Categorical Feature: banner_size"
   ]
  },
  {
   "cell_type": "code",
   "execution_count": 28,
   "metadata": {},
   "outputs": [
    {
     "name": "stdout",
     "output_type": "stream",
     "text": [
      "+-----------+\n",
      "|banner_size|\n",
      "+-----------+\n",
      "|     320x50|\n",
      "|     320x50|\n",
      "|     320x50|\n",
      "|     320x50|\n",
      "|     320x50|\n",
      "+-----------+\n",
      "only showing top 5 rows\n",
      "\n"
     ]
    }
   ],
   "source": [
    "df = df.withColumn('banner_size',concat(df.C15,lit('x'),df.C16))\n",
    "\n",
    "df.select('banner_size').show(5)"
   ]
  },
  {
   "cell_type": "code",
   "execution_count": 29,
   "metadata": {},
   "outputs": [
    {
     "name": "stdout",
     "output_type": "stream",
     "text": [
      "root\n",
      " |-- click: integer (nullable = true)\n",
      " |-- hour: integer (nullable = true)\n",
      " |-- C1: integer (nullable = true)\n",
      " |-- banner_pos: integer (nullable = true)\n",
      " |-- device_type: string (nullable = true)\n",
      " |-- device_conn_type: integer (nullable = true)\n",
      " |-- C14: integer (nullable = true)\n",
      " |-- C17: integer (nullable = true)\n",
      " |-- C18: integer (nullable = true)\n",
      " |-- C19: integer (nullable = true)\n",
      " |-- C20: integer (nullable = true)\n",
      " |-- C21: integer (nullable = true)\n",
      " |-- date: timestamp (nullable = true)\n",
      " |-- day: string (nullable = true)\n",
      " |-- source_id: string (nullable = true)\n",
      " |-- source_domain: string (nullable = true)\n",
      " |-- source_category: string (nullable = true)\n",
      " |-- banner_size: string (nullable = true)\n",
      "\n"
     ]
    }
   ],
   "source": [
    "df = df.drop('site_id','site_domain','app_id','app_domain',\n",
    "             'site_category','app_category',\n",
    "             'C15','C16','count')\n",
    "df.printSchema()"
   ]
  },
  {
   "cell_type": "markdown",
   "metadata": {},
   "source": [
    "### Other Features Engineering"
   ]
  },
  {
   "cell_type": "code",
   "execution_count": 30,
   "metadata": {},
   "outputs": [
    {
     "name": "stdout",
     "output_type": "stream",
     "text": [
      "+-------------+-------------+\n",
      "|pos_conn_type|source_id_pos|\n",
      "+-------------+-------------+\n",
      "|          0_0|   1fbe01fe_0|\n",
      "|          1_0|   0c2fe9d6_1|\n",
      "|          0_0|   1fbe01fe_0|\n",
      "|          0_0|   e2a1ca37_0|\n",
      "|          0_0|   1fbe01fe_0|\n",
      "|          0_0|   1fbe01fe_0|\n",
      "|          1_0|   e151e245_1|\n",
      "|          0_0|   e2fcccd2_0|\n",
      "|          0_0|   1fbe01fe_0|\n",
      "|          0_0|   1fbe01fe_0|\n",
      "|          1_0|   ffc6ffd0_1|\n",
      "|          1_0|   43d6df75_1|\n",
      "|          1_0|   e59ef3fc_1|\n",
      "|          0_0|   1fbe01fe_0|\n",
      "|          0_2|   1fbe01fe_0|\n",
      "|          0_0|   543a539e_0|\n",
      "|          0_0|   1fbe01fe_0|\n",
      "|          0_0|   febd1138_0|\n",
      "|          0_0|   1fbe01fe_0|\n",
      "|          0_0|   1fbe01fe_0|\n",
      "+-------------+-------------+\n",
      "only showing top 20 rows\n",
      "\n",
      "root\n",
      " |-- click: integer (nullable = true)\n",
      " |-- hour: integer (nullable = true)\n",
      " |-- C1: integer (nullable = true)\n",
      " |-- banner_pos: integer (nullable = true)\n",
      " |-- device_type: string (nullable = true)\n",
      " |-- device_conn_type: integer (nullable = true)\n",
      " |-- C14: integer (nullable = true)\n",
      " |-- C17: integer (nullable = true)\n",
      " |-- C18: integer (nullable = true)\n",
      " |-- C19: integer (nullable = true)\n",
      " |-- C20: integer (nullable = true)\n",
      " |-- C21: integer (nullable = true)\n",
      " |-- date: timestamp (nullable = true)\n",
      " |-- day: string (nullable = true)\n",
      " |-- source_id: string (nullable = true)\n",
      " |-- source_domain: string (nullable = true)\n",
      " |-- source_category: string (nullable = true)\n",
      " |-- banner_size: string (nullable = true)\n",
      " |-- pos_conn_type: string (nullable = true)\n",
      " |-- source_id_pos: string (nullable = true)\n",
      "\n"
     ]
    }
   ],
   "source": [
    "df = (df\n",
    "      .withColumn('pos_conn_type',concat(df['banner_pos'],lit('_'),df['device_conn_type']))\n",
    "      .withColumn('source_id_pos',concat(df['source_id'],lit('_'),df['banner_pos']  ))\n",
    "     )\n",
    "\n",
    "df.select('pos_conn_type','source_id_pos').show()\n",
    "df.printSchema()"
   ]
  },
  {
   "cell_type": "code",
   "execution_count": 31,
   "metadata": {},
   "outputs": [
    {
     "name": "stdout",
     "output_type": "stream",
     "text": [
      "root\n",
      " |-- click: integer (nullable = true)\n",
      " |-- hour: integer (nullable = true)\n",
      " |-- C1: string (nullable = true)\n",
      " |-- banner_pos: integer (nullable = true)\n",
      " |-- device_type: string (nullable = true)\n",
      " |-- device_conn_type: integer (nullable = true)\n",
      " |-- C14: integer (nullable = true)\n",
      " |-- C17: integer (nullable = true)\n",
      " |-- C18: integer (nullable = true)\n",
      " |-- C19: integer (nullable = true)\n",
      " |-- C20: integer (nullable = true)\n",
      " |-- C21: integer (nullable = true)\n",
      " |-- date: timestamp (nullable = true)\n",
      " |-- day: string (nullable = true)\n",
      " |-- source_id: string (nullable = true)\n",
      " |-- source_domain: string (nullable = true)\n",
      " |-- source_category: string (nullable = true)\n",
      " |-- banner_size: string (nullable = true)\n",
      " |-- pos_conn_type: string (nullable = true)\n",
      " |-- source_id_pos: string (nullable = true)\n",
      "\n"
     ]
    }
   ],
   "source": [
    "#============= Convert to String (categorical)=======================\n",
    "df = df.withColumn(\"C1\", df[\"C1\"].cast(\"string\"))\n",
    "df.printSchema()"
   ]
  },
  {
   "cell_type": "markdown",
   "metadata": {},
   "source": [
    "### Model Specifications"
   ]
  },
  {
   "cell_type": "code",
   "execution_count": 34,
   "metadata": {},
   "outputs": [
    {
     "name": "stdout",
     "output_type": "stream",
     "text": [
      "target: click \n",
      "\n",
      "===================== X_category =============================\n",
      "X_category: ['hour', 'C14', 'C20', 'source_id_pos', 'day', 'source_domain', 'C17', 'C19', 'C21', 'source_category', 'device_conn_type', 'pos_conn_type', 'C18', 'banner_pos', 'C1', 'banner_size', 'device_type']\n",
      "\n",
      "X_dummy: ['hour_dummy', 'C14_dummy', 'C20_dummy', 'source_id_pos_dummy', 'day_dummy', 'source_domain_dummy', 'C17_dummy', 'C19_dummy', 'C21_dummy', 'source_category_dummy', 'device_conn_type_dummy', 'pos_conn_type_dummy', 'C18_dummy', 'banner_pos_dummy', 'C1_dummy', 'banner_size_dummy', 'device_type_dummy']\n"
     ]
    }
   ],
   "source": [
    "#==============  target label ==================\n",
    "print('target:',target,'\\n')\n",
    "print('===================== X_category =============================')\n",
    "\n",
    "X_category = ['hour',\n",
    "              'C14',\n",
    "              'C20',\n",
    "              'source_id_pos', \n",
    "              'day',\n",
    "              'source_domain',\n",
    "              'C17',\n",
    "              'C19',\n",
    "              'C21',\n",
    "              'source_category',\n",
    "              'device_conn_type',\n",
    "              'pos_conn_type',\n",
    "              'C18',\n",
    "              'banner_pos',\n",
    "              'C1', \n",
    "              'banner_size',\n",
    "              'device_type'\n",
    "             ]\n",
    "\n",
    "print('X_category:',X_category)\n",
    "\n",
    "string = '_dummy'\n",
    "X_dummy = [x + string for x in X_category]\n",
    "\n",
    "print (\"\\nX_dummy:\",X_dummy)\n"
   ]
  },
  {
   "cell_type": "markdown",
   "metadata": {},
   "source": [
    "### Data Preparation:\n",
    "* One hot encoding of categorical cols\n",
    "* Assembly & Pipeline "
   ]
  },
  {
   "cell_type": "code",
   "execution_count": 35,
   "metadata": {},
   "outputs": [
    {
     "name": "stdout",
     "output_type": "stream",
     "text": [
      "======================= assembly & pipeline =================================\n",
      "cols selected: ['hour_dummy', 'C14_dummy', 'C20_dummy', 'source_id_pos_dummy', 'day_dummy', 'source_domain_dummy', 'C17_dummy', 'C19_dummy', 'C21_dummy', 'source_category_dummy', 'device_conn_type_dummy', 'pos_conn_type_dummy', 'C18_dummy', 'banner_pos_dummy', 'C1_dummy', 'banner_size_dummy', 'device_type_dummy']\n"
     ]
    },
    {
     "data": {
      "text/plain": [
       "DataFrame[click: int, hour: int, C1: string, banner_pos: int, device_type: string, device_conn_type: int, C14: int, C17: int, C18: int, C19: int, C20: int, C21: int, date: timestamp, day: string, source_id: string, source_domain: string, source_category: string, banner_size: string, pos_conn_type: string, source_id_pos: string]"
      ]
     },
     "execution_count": 35,
     "metadata": {},
     "output_type": "execute_result"
    }
   ],
   "source": [
    "print ('======================= assembly & pipeline =================================')\n",
    "from pyspark.ml.feature import OneHotEncoder, StringIndexer\n",
    "from pyspark.ml.pipeline import Pipeline\n",
    "from pyspark.ml.feature import VectorAssembler\n",
    "\n",
    "\n",
    "column_vec_in = X_category\n",
    "column_vec_out = X_dummy\n",
    "\n",
    "indexers = [StringIndexer(inputCol=x, outputCol=x+'_tmp')\n",
    "        for x in column_vec_in ]\n",
    "\n",
    "encoders = [OneHotEncoder(dropLast=True,#False,\n",
    "                      inputCol=x+\"_tmp\",\n",
    "                      outputCol=y)\n",
    "\n",
    "for x,y in zip(column_vec_in, column_vec_out)]\n",
    "\n",
    "\n",
    "tmp = [[i,j] for i,j in zip(indexers, encoders)]\n",
    "tmp = [i for sublist in tmp for i in sublist]\n",
    "list(tmp)\n",
    "\n",
    "\n",
    "# prepare target labeled set, NOTE: target inputCol CANNOT be the same name as outputCol\n",
    "cols_now = X_dummy #+  X_numeric\n",
    "\n",
    "print ('cols selected:',cols_now)\n",
    "\n",
    "assembler_features = VectorAssembler(inputCols=cols_now, outputCol='features')\n",
    "\n",
    "labelIndexer = StringIndexer(inputCol=target, outputCol=\"label\")\n",
    "\n",
    "tmp += [assembler_features, labelIndexer]\n",
    "pipeline = Pipeline(stages=tmp)\n",
    "\n",
    "df_tr = pipeline.fit(df).transform(df)\n",
    "df_tr.cache()\n",
    "df.unpersist()"
   ]
  },
  {
   "cell_type": "markdown",
   "metadata": {},
   "source": [
    "### Data Partitioning:\n",
    "* Train/Test Split"
   ]
  },
  {
   "cell_type": "code",
   "execution_count": 36,
   "metadata": {},
   "outputs": [
    {
     "data": {
      "text/plain": [
       "DataFrame[click: int, hour: int, C1: string, banner_pos: int, device_type: string, device_conn_type: int, C14: int, C17: int, C18: int, C19: int, C20: int, C21: int, date: timestamp, day: string, source_id: string, source_domain: string, source_category: string, banner_size: string, pos_conn_type: string, source_id_pos: string, hour_tmp: double, hour_dummy: vector, C14_tmp: double, C14_dummy: vector, C20_tmp: double, C20_dummy: vector, source_id_pos_tmp: double, source_id_pos_dummy: vector, day_tmp: double, day_dummy: vector, source_domain_tmp: double, source_domain_dummy: vector, C17_tmp: double, C17_dummy: vector, C19_tmp: double, C19_dummy: vector, C21_tmp: double, C21_dummy: vector, source_category_tmp: double, source_category_dummy: vector, device_conn_type_tmp: double, device_conn_type_dummy: vector, pos_conn_type_tmp: double, pos_conn_type_dummy: vector, C18_tmp: double, C18_dummy: vector, banner_pos_tmp: double, banner_pos_dummy: vector, C1_tmp: double, C1_dummy: vector, banner_size_tmp: double, banner_size_dummy: vector, device_type_tmp: double, device_type_dummy: vector, features: vector, label: double]"
      ]
     },
     "execution_count": 36,
     "metadata": {},
     "output_type": "execute_result"
    }
   ],
   "source": [
    "#=============  partition train test by dates ===============\n",
    "\n",
    "### Randomly split data into training and test sets. set seed for reproducibility\n",
    "\n",
    "ratio_partition = 0.8\n",
    "\n",
    "(train, test) = df_tr.randomSplit([ratio_partition,1-ratio_partition], seed=10) # need to ensure same split for each time\n",
    "\n",
    "train.cache()\n",
    "test.cache()\n",
    "df_tr.unpersist()"
   ]
  },
  {
   "cell_type": "markdown",
   "metadata": {},
   "source": [
    "### Training: Logistic Regression (elasticNet)\n",
    "* elastic-net penalty = 0.9 (mixes both ridge & lasso regression approach)\n",
    "* CV fold = 10\n",
    "* Regularization Parameter \n",
    "\n",
    "Logistic Regression is used for its interpretability of the specified features used in training. This helps the end-user to understand what drives the positive response. Thus useful for debugging in real world situations.\n",
    "\n",
    "Secondly its also a fast model that scales well with big data depending on the available computation settings."
   ]
  },
  {
   "cell_type": "code",
   "execution_count": 37,
   "metadata": {},
   "outputs": [
    {
     "name": "stdout",
     "output_type": "stream",
     "text": [
      "====================== LogisticRegression ================================\n",
      "Crossvalidated AUC [0.7398033366137504]\n"
     ]
    }
   ],
   "source": [
    "print ('====================== LogisticRegression ================================')\n",
    "\n",
    "\n",
    "myCVfold = 10\n",
    "\n",
    "\n",
    "#=======================  CROSS VALIDATION MODEL (TRAINING) ===================================================\n",
    "\n",
    "from pyspark.ml.evaluation import (BinaryClassificationEvaluator, MulticlassClassificationEvaluator)\n",
    "\n",
    "#==================== LogisticRegression ===================================\n",
    "\n",
    "#elasticNetParam corresponds to α and regParam corresponds to λ.\n",
    "from pyspark.ml.classification  import (LogisticRegression,LogisticRegressionModel)\n",
    "\n",
    "\n",
    "lr = LogisticRegression(labelCol=\"label\", featuresCol=\"features\")\n",
    "\n",
    "#setWeightCol(java.lang.String value)\n",
    "#Whether to over-/under-sample training instances according to the given weights in weightCol. \n",
    "#If empty, all instances are treated equally (weight 1.0). \n",
    "#Default is empty, so all instances have weight one.\n",
    "\n",
    "\n",
    "\n",
    "#============ parameter tuning ==================\n",
    "from pyspark.ml.tuning import ParamGridBuilder, CrossValidator\n",
    "\n",
    "# Create ParamGrid for Cross Validation\n",
    "paramGrid = (ParamGridBuilder()\n",
    "             .addGrid(lr.regParam, [0.00001])#  lambda: Increasing lambda results in less overfitting but also greater bias\n",
    "             .addGrid(lr.elasticNetParam, [0.9]) # aplha: 1=lasso(L1), 0=Ridge(L2)\n",
    "             .addGrid(lr.maxIter, [10]) \n",
    "             .build())\n",
    "\n",
    "\n",
    "\n",
    "# CrossValidator\n",
    "evaluator = BinaryClassificationEvaluator(labelCol=\"label\", \n",
    "                                          rawPredictionCol=\"probability\",\n",
    "                                          metricName=\"areaUnderROC\")\n",
    "\n",
    "cv = CrossValidator(estimator=lr, \n",
    "                    estimatorParamMaps=paramGrid, \n",
    "                    evaluator=evaluator, \n",
    "                    numFolds=myCVfold)\n",
    "\n",
    "# Run cross validations\n",
    "cvModel = cv.fit(train)\n",
    "\n",
    "\n",
    "\n",
    "#======= Predictions ===================\n",
    "predictions = cvModel.transform(test)\n",
    "print(\"Crossvalidated AUC\",cvModel.avgMetrics)\n"
   ]
  },
  {
   "cell_type": "code",
   "execution_count": 38,
   "metadata": {},
   "outputs": [
    {
     "name": "stdout",
     "output_type": "stream",
     "text": [
      "========================= EXTRACT COEFFICIENTS ====================================\n",
      "                     predictor  coefficient\n",
      "2303                  C1422476     8.665981\n",
      "9183   source_id_pos3e94f372_0     8.340196\n",
      "7183   source_id_posa61ffded_0     8.254146\n",
      "8857   source_id_posab1be368_0     8.170403\n",
      "7501   source_id_posfaadbc8d_1     8.168548\n",
      "9419   source_id_posaddcd577_0     8.035993\n",
      "7495   source_id_posdd954e91_1     8.014800\n",
      "6251   source_id_pos5a82fca1_0     7.961589\n",
      "8799   source_id_pos0c2fe9d6_0     7.913367\n",
      "8594   source_id_pos8e7b1f22_0     7.871456\n",
      "6678   source_id_pos16c73019_0     7.864588\n",
      "9374   source_id_posc4c44801_0     7.857936\n",
      "8334   source_id_posb5f3f72a_0     7.798780\n",
      "8617   source_id_pos89c3d2bf_0     7.761080\n",
      "7385   source_id_pos73ea5117_0     7.747371\n",
      "8764   source_id_posa2ff3fa3_0     7.744195\n",
      "8389   source_id_posde0a2044_0     7.646402\n",
      "7537   source_id_pos16c382c3_1     7.638133\n",
      "8188   source_id_posff57e892_0     7.636985\n",
      "8603   source_id_pos85234e31_0     7.630278\n",
      "8190   source_id_posf850d90f_0     7.621857\n",
      "8576   source_id_pos7410c768_0     7.603628\n",
      "8053   source_id_poscc74267f_0     7.588639\n",
      "8699   source_id_pos1fa08f1f_0     7.583769\n",
      "9305   source_id_posb991417f_0     7.561207\n",
      "7823   source_id_pos5cd909d9_0     7.554042\n",
      "9569   source_id_posba83949a_0     7.553869\n",
      "8913   source_id_posc87d0ef5_0     7.550884\n",
      "9428   source_id_pos1bbe7d5d_1     7.550554\n",
      "8600   source_id_pos3348e8fd_0     7.549297\n",
      "...                        ...          ...\n",
      "6928   source_id_pos0d1917c4_0    -3.065194\n",
      "12655    source_domain36520f4e    -3.096753\n",
      "7290   source_id_pos88b3ccca_0    -3.140592\n",
      "12411    source_domainb6b2dfba    -3.189722\n",
      "11675    source_domain1ea6992d    -3.216017\n",
      "6845   source_id_posd6480a5b_0    -3.225563\n",
      "11939    source_domain06fd1a96    -3.228953\n",
      "8792   source_id_pos88b3ccca_1    -3.277095\n",
      "2143                  C1423068    -3.296659\n",
      "8145   source_id_pos95d2b2f6_0    -3.298849\n",
      "6474   source_id_posac329c67_0    -3.324309\n",
      "11274    source_domain630dcef4    -3.339115\n",
      "13131    source_domain7762e1d9    -3.359180\n",
      "7466   source_id_posda9de571_1    -3.365546\n",
      "7011   source_id_pos95d2b2f6_1    -3.427707\n",
      "7840   source_id_posb530a55f_1    -3.429475\n",
      "12866    source_domain1c6134af    -3.539221\n",
      "13277    source_domain3ae22dca    -3.569118\n",
      "11654    source_domain3cfacd83    -3.592888\n",
      "12252    source_domaind531b701    -3.692731\n",
      "13346    source_domain9eb2cb9a    -3.728261\n",
      "13084    source_domain2600695d    -3.848672\n",
      "12156    source_domain3f8758aa    -3.923672\n",
      "7193   source_id_pose4349e3c_0    -3.927488\n",
      "12913    source_domainf90c51ab    -3.934100\n",
      "2306                  C1423490    -3.965286\n",
      "12476    source_domaine784ffb5    -3.997963\n",
      "2257                  C1422616    -4.103289\n",
      "2354                  C1418533    -4.140097\n",
      "12322    source_domain0308d98a    -4.981664\n",
      "\n",
      "[13195 rows x 2 columns]\n",
      "WRITE COEF TO CSV Completed!\n",
      "n_coefs: 13195\n"
     ]
    }
   ],
   "source": [
    "coef_filename = 'myCoef.csv'\n",
    "\n",
    "print ('========================= EXTRACT COEFFICIENTS ====================================')\n",
    "coeff = list(cvModel.bestModel.coefficients)\n",
    "names_binary = predictions.schema[\"features\"].metadata[\"ml_attr\"][\"attrs\"]['binary']\n",
    "#names_numeric = predictions.schema[\"features\"].metadata[\"ml_attr\"][\"attrs\"]['numeric']\n",
    "\n",
    "\n",
    "predictor = [\"(Intercept)\"]\n",
    "coefficient = [cvModel.bestModel.intercept]\n",
    "\n",
    "#binary coef\n",
    "for e in names_binary:\n",
    "    name_dummy = e['name']\n",
    "    name_list = name_dummy.split('_dummy_')\n",
    "    name = name_list[0] + name_list[1]\n",
    "    predictor.append(name)\n",
    "    index = e['idx']\n",
    "    coefficient.append(coeff[index])  \n",
    "\n",
    "    \n",
    "\"\"\"\n",
    "for e in names_numeric:\n",
    "    name = e['name']\n",
    "    predictor.append(name)\n",
    "    index = e['idx']\n",
    "    coefficient.append(coeff[index])\n",
    "\n",
    "\"\"\"\n",
    "#numeric coef \n",
    "\n",
    "    \n",
    "#print(predictor)\n",
    "\n",
    "#===============WRITE COEF TO CSV===============\n",
    "import pandas as pd\n",
    "coef_df = pd.DataFrame({\"predictor\": predictor, \"coefficient\":coefficient})\n",
    "coef_df = coef_df[['predictor', 'coefficient']]\n",
    "coef_df = coef_df[(coef_df[\"coefficient\"]!=0)]\n",
    "coef_df.to_csv(coef_filename, index=None, quoting=csv.QUOTE_NONNUMERIC)\n",
    "coef_df = coef_df.sort_values(['coefficient'], ascending=[False])\n",
    "\n",
    "\n",
    "print (coef_df)\n",
    "print ('WRITE COEF TO CSV Completed!')\n",
    "print ('n_coefs:',len(coef_df))"
   ]
  },
  {
   "cell_type": "code",
   "execution_count": 39,
   "metadata": {},
   "outputs": [
    {
     "name": "stdout",
     "output_type": "stream",
     "text": [
      "root\n",
      " |-- label: integer (nullable = true)\n",
      " |-- p: float (nullable = true)\n",
      "\n",
      "+-----+-----------+\n",
      "|label|          p|\n",
      "+-----+-----------+\n",
      "|    0| 0.02210474|\n",
      "|    0|0.092492245|\n",
      "|    0|  0.1631121|\n",
      "|    0| 0.14496608|\n",
      "|    0|   0.186824|\n",
      "|    0| 0.52342117|\n",
      "|    0|  0.2788509|\n",
      "|    0| 0.15721294|\n",
      "|    0|  0.3179442|\n",
      "|    0|0.025307272|\n",
      "+-----+-----------+\n",
      "only showing top 10 rows\n",
      "\n"
     ]
    }
   ],
   "source": [
    "from pyspark.sql.types import FloatType\n",
    "from pyspark.sql.functions import lit, udf\n",
    "\n",
    "def ith_(v):\n",
    "    try:\n",
    "        return float(v[1])\n",
    "    except ValueError:\n",
    "        return None\n",
    "\n",
    "ith = udf(ith_, FloatType())\n",
    "\n",
    "obs_pred = predictions.select('label','probability').cache()\n",
    "obs_pred = obs_pred.withColumn(\"p\", ith(obs_pred[\"probability\"]))\n",
    "obs_pred = obs_pred.select('label','p')\n",
    "obs_pred = obs_pred.withColumn(\"label\", obs_pred[\"label\"].cast(\"integer\"))\n",
    "\n",
    "obs_pred.printSchema()\n",
    "obs_pred.show(10)"
   ]
  },
  {
   "cell_type": "code",
   "execution_count": 40,
   "metadata": {},
   "outputs": [
    {
     "name": "stdout",
     "output_type": "stream",
     "text": [
      "================= Model Evaluation: AUC & Logloss ==================================\n",
      "AUC = 0.7406146477004849\n",
      "logloss = 0.40054929480173534\n"
     ]
    }
   ],
   "source": [
    "print ('================= Model Evaluation: AUC & Logloss ==================================')\n",
    "from sklearn import metrics\n",
    "from sklearn.metrics import log_loss\n",
    "\n",
    "obs_pred=obs_pred.toPandas()\n",
    "\n",
    "obs = obs_pred['label']\n",
    "pred = obs_pred['p']\n",
    "\n",
    "fpr, tpr, thresholds = metrics.roc_curve(obs, pred)\n",
    "\n",
    "#print('tpr:',tpr)\n",
    "#print('fpr:',fpr)\n",
    "\n",
    "auc = metrics.auc(fpr,tpr)\n",
    "logloss_score = log_loss(obs, pred, eps=1e-15)\n",
    "\n",
    "interceptCTR = 1/(1+np.exp(-(cvModel.bestModel.intercept)))\n",
    "\n",
    "print ('AUC =', auc)\n",
    "print ('logloss =', logloss_score)"
   ]
  },
  {
   "cell_type": "code",
   "execution_count": 44,
   "metadata": {},
   "outputs": [
    {
     "name": "stdout",
     "output_type": "stream",
     "text": [
      "Features:\n",
      " ['hour', 'C14', 'C20', 'source_id_pos', 'day', 'source_domain', 'C17', 'C19', 'C21', 'source_category', 'device_conn_type', 'pos_conn_type', 'C18', 'banner_pos', 'C1', 'banner_size', 'device_type']\n",
      "\n",
      "interceptCTR(defaultCTR): 0.170021811989151\n"
     ]
    },
    {
     "data": {
      "image/png": "[encoded data removed]",
      "text/plain": [
       "<Figure size 576x576 with 1 Axes>"
      ]
     },
     "metadata": {
      "needs_background": "light"
     },
     "output_type": "display_data"
    }
   ],
   "source": [
    "#=================== reliability plots ===========================\n",
    "\n",
    "import numpy as np\n",
    "import matplotlib.pyplot as plt\n",
    "get_ipython().magic(u'matplotlib inline')\n",
    "\n",
    "def reliability_curve(y_true, y_score, bins=10, normalize=False):\n",
    "    \"\"\"Compute reliability curve\n",
    "\n",
    "    Reliability curves allow checking if the predicted probabilities of a\n",
    "    binary classifier are well calibrated. This function returns two arrays\n",
    "    which encode a mapping from predicted probability to empirical probability.\n",
    "    For this, the predicted probabilities are partitioned into equally sized\n",
    "    bins and the mean predicted probability and the mean empirical probabilties\n",
    "    in the bins are computed. For perfectly calibrated predictions, both\n",
    "    quantities whould be approximately equal (for sufficiently many test\n",
    "    samples).\n",
    "\n",
    "    Note: this implementation is restricted to binary classification.\n",
    "\n",
    "    Parameters\n",
    "    ----------\n",
    "\n",
    "    y_true : array, shape = [n_samples]\n",
    "        True binary labels (0 or 1).\n",
    "\n",
    "    y_score : array, shape = [n_samples]\n",
    "        Target scores, can either be probability estimates of the positive\n",
    "        class or confidence values. If normalize is False, y_score must be in\n",
    "        the interval [0, 1]\n",
    "\n",
    "    bins : int, optional, default=10\n",
    "        The number of bins into which the y_scores are partitioned.\n",
    "        Note: n_samples should be considerably larger than bins such that\n",
    "              there is sufficient data in each bin to get a reliable estimate\n",
    "              of the reliability\n",
    "\n",
    "    normalize : bool, optional, default=False\n",
    "        Whether y_score needs to be normalized into the bin [0, 1]. If True,\n",
    "        the smallest value in y_score is mapped onto 0 and the largest one\n",
    "        onto 1.\n",
    "\n",
    "\n",
    "    Returns\n",
    "    -------\n",
    "    y_score_bin_mean : array, shape = [bins]\n",
    "        The mean predicted y_score in the respective bins.\n",
    "\n",
    "    empirical_prob_pos : array, shape = [bins]\n",
    "        The empirical probability (frequency) of the positive class (+1) in the\n",
    "        respective bins.\n",
    "\n",
    "\n",
    "    References\n",
    "    ----------\n",
    "    .. [1] `Predicting Good Probabilities with Supervised Learning\n",
    "            <http://machinelearning.wustl.edu/mlpapers/paper_files/icml2005_Niculescu-MizilC05.pdf>`_\n",
    "\n",
    "    \"\"\"\n",
    "    if normalize:  # Normalize scores into bin [0, 1]\n",
    "        y_score = (y_score - y_score.min()) / (y_score.max() - y_score.min())\n",
    "\n",
    "    bin_width = 1.0 / bins\n",
    "    bin_centers = np.linspace(0, 1.0 - bin_width, bins) + bin_width / 2\n",
    "\n",
    "    y_score_bin_mean = np.empty(bins)\n",
    "    empirical_prob_pos = np.empty(bins)\n",
    "    for i, threshold in enumerate(bin_centers):\n",
    "        # determine all samples where y_score falls into the i-th bin\n",
    "        bin_idx = np.logical_and(threshold - bin_width / 2 < y_score,\n",
    "                                 y_score <= threshold + bin_width / 2)\n",
    "        # Store mean y_score and mean empirical probability of positive class\n",
    "        y_score_bin_mean[i] = y_score[bin_idx].mean()\n",
    "        empirical_prob_pos[i] = y_true[bin_idx].mean()\n",
    "    return y_score_bin_mean, empirical_prob_pos\n",
    "\n",
    "\n",
    "# In[26]:\n",
    "\n",
    "\n",
    "obs = obs_pred['label']\n",
    "pred = obs_pred['p']\n",
    "\n",
    "\n",
    "reliable_tuple = reliability_curve(obs, pred, bins=10, normalize=False)\n",
    "y_score_bin_mean = reliable_tuple[0]\n",
    "empirical_prob_pos = reliable_tuple[1]\n",
    "plt.figure(0, figsize=(8, 8))\n",
    "plt.subplot2grid((3, 1), (0, 0), rowspan=2)\n",
    "\n",
    "#mytitle=\"Reliability Plot,\"+\" LogLoss: \"+str(round(logloss_score,4))+\" AUC: \" + str(round(auc,4))\n",
    "\n",
    "plt.title(mytitle)\n",
    "plt.plot([0.0, 1.0], [0.0, 1.0], 'k', label=\"Expectation\")\n",
    "\n",
    "scores_not_nan = np.logical_not(np.isnan(empirical_prob_pos))\n",
    "plt.plot(y_score_bin_mean[scores_not_nan],empirical_prob_pos[scores_not_nan], label='logisticCV')\n",
    "plt.ylabel(\"Observed Fraction\")\n",
    "plt.xlabel(\"Mean Prediction\")\n",
    "plt.legend(loc=0)\n",
    "print ('Features:\\n',X_category)\n",
    "print('\\ninterceptCTR(defaultCTR):',interceptCTR)\n",
    "\n",
    "\n"
   ]
  },
  {
   "cell_type": "code",
   "execution_count": null,
   "metadata": {},
   "outputs": [],
   "source": [
    "obs_pred.to_csv('forReliabilityPlotPyspark.csv', index = False, encoding = 'utf-8')\n",
    "print ('forReliabilityPlotPyspark.csv DONE!')"
   ]
  },
  {
   "cell_type": "code",
   "execution_count": null,
   "metadata": {},
   "outputs": [],
   "source": []
  }
 ],
 "metadata": {
  "kernelspec": {
   "display_name": "Python 3",
   "language": "python",
   "name": "python3"
  },
  "language_info": {
   "codemirror_mode": {
    "name": "ipython",
    "version": 3
   },
   "file_extension": ".py",
   "mimetype": "text/x-python",
   "name": "python",
   "nbconvert_exporter": "python",
   "pygments_lexer": "ipython3",
   "version": "3.7.2"
  }
 },
 "nbformat": 4,
 "nbformat_minor": 2
}
